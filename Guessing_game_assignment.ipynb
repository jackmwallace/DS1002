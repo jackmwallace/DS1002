{
  "nbformat": 4,
  "nbformat_minor": 0,
  "metadata": {
    "colab": {
      "provenance": [],
      "authorship_tag": "ABX9TyMNq02RqpYDD/BYggRhPCmS",
      "include_colab_link": true
    },
    "kernelspec": {
      "name": "python3",
      "display_name": "Python 3"
    },
    "language_info": {
      "name": "python"
    }
  },
  "cells": [
    {
      "cell_type": "markdown",
      "metadata": {
        "id": "view-in-github",
        "colab_type": "text"
      },
      "source": [
        "<a href=\"https://colab.research.google.com/github/jackmwallace/DS1002/blob/main/Guessing_game_assignment.ipynb\" target=\"_parent\"><img src=\"https://colab.research.google.com/assets/colab-badge.svg\" alt=\"Open In Colab\"/></a>"
      ]
    },
    {
      "cell_type": "code",
      "execution_count": 22,
      "metadata": {
        "colab": {
          "base_uri": "https://localhost:8080/"
        },
        "id": "MJjhxZx4AQxO",
        "outputId": "00462643-bb54-4227-84cf-72f4f982e98a"
      },
      "outputs": [
        {
          "output_type": "stream",
          "name": "stdout",
          "text": [
            "Guess a number from 1-100:\n",
            "50\n",
            "That guess is too high. Try again.\n",
            "Guess a number from 1-100:\n",
            "30\n",
            "That guess is too high. Try again.\n",
            "Guess a number from 1-100:\n",
            "20\n",
            "That guess is too low. Try again.\n",
            "Guess a number from 1-100:\n",
            "25\n",
            "That guess is too low. Try again.\n",
            "Guess a number from 1-100:\n",
            "27\n",
            "That guess is too low. Try again.\n",
            "Guess a number from 1-100:\n",
            "29\n",
            "You guessed the number! Here's how many tries it took: 6\n"
          ]
        }
      ],
      "source": [
        "import numpy as np\n",
        "\n",
        "x = 0 #Counts number of guesses\n",
        "val = np.random.randint(1, 100) #Number to guess for success\n",
        "success = False #Breaks the loop\n",
        "\n",
        "while success == False:\n",
        "    print(\"Guess a number from 1-100:\")\n",
        "    guess = input()\n",
        "    if guess.isdigit(): #Protects against runtime error for the wrong variable types\n",
        "      if 1 <= int(guess) <= 100:\n",
        "        x = x + 1 #Only counts valid counts (between 1 and 100)\n",
        "        if int(guess) == val:\n",
        "            print(\"You guessed the number! Here's how many tries it took: \"+ str(x))\n",
        "            success = True\n",
        "        else:\n",
        "            if int(guess) > val:\n",
        "                print(\"That guess is too high. Try again.\")\n",
        "            else:\n",
        "                print(\"That guess is too low. Try again.\")\n",
        "      else:\n",
        "        print(\"You must choose an integer from 1-100 to play.\")\n",
        "    else:\n",
        "        print(\"You must choose an integer from 1-100 to play.\")\n",
        ""
      ]
    },
    {
      "cell_type": "markdown",
      "source": [
        "This assignment took about 20 minutes. I have experience with doing this sort of game, but I'm used to the Java bracket type structure for nesting if statements, so I had to adjust a bit for that. I don't think there's any way to break the game with the way it is, but maybe there is. It should take any input an only count up correct attempts. Only thing that I consulted the internet for was the \"isdigit()\" function because I couldn't remember what it was called in Python, everything else was from Professor Abram's lectures."
      ],
      "metadata": {
        "id": "zJEydvnvFmcI"
      }
    }
  ]
}