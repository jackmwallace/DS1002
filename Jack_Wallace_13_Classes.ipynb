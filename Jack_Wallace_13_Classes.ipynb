{
  "nbformat": 4,
  "nbformat_minor": 0,
  "metadata": {
    "colab": {
      "provenance": [],
      "include_colab_link": true
    },
    "kernelspec": {
      "name": "python3",
      "display_name": "Python 3"
    },
    "language_info": {
      "name": "python"
    }
  },
  "cells": [
    {
      "cell_type": "markdown",
      "metadata": {
        "id": "view-in-github",
        "colab_type": "text"
      },
      "source": [
        "<a href=\"https://colab.research.google.com/github/jackmwallace/DS1002/blob/main/Jack_Wallace_13_Classes.ipynb\" target=\"_parent\"><img src=\"https://colab.research.google.com/assets/colab-badge.svg\" alt=\"Open In Colab\"/></a>"
      ]
    },
    {
      "cell_type": "markdown",
      "source": [
        "## Assignment:  Classes\n",
        "### Due Sunday 28 April at 10pm"
      ],
      "metadata": {
        "id": "5Vy93BSp9Tum"
      }
    },
    {
      "cell_type": "markdown",
      "source": [
        "There were little errors that I made, mostly with accidently swapping lastName and firstName that cost me some time, but overall this took about 50 minutes."
      ],
      "metadata": {
        "id": "n4x0ou9qaBSe"
      }
    },
    {
      "cell_type": "markdown",
      "source": [],
      "metadata": {
        "id": "VYmDJ2EIaBPm"
      }
    },
    {
      "cell_type": "markdown",
      "source": [
        "1.  Define a class called `Person` that has attributes `lastName`, `firstName`, `mother`, and `father`.  Both `mother` and `father` should have default value `unknown`.\n",
        "\n",
        "  Include a `__str__()` function that returns a string of the form '`firstName` `lastName`'.\n",
        "\n",
        "  Include a `__repr__()` function that returns a string that can be evaluated to recreate the `Person` object.\n",
        "\n"
      ],
      "metadata": {
        "id": "vcj5XQAI9Wsb"
      }
    },
    {
      "cell_type": "code",
      "source": [
        "class Person:\n",
        "    def __init__(self, lastName, firstName, mother=\"unknown\", father=\"unknown\"): #defining all of the potential values for the class\n",
        "        self.lastName = lastName\n",
        "        self.firstName = firstName\n",
        "        self.mother = mother\n",
        "        self.father = father\n",
        "\n",
        "    def __str__(self): #returns a Person's first and last name\n",
        "        return f'{self.firstName} {self.lastName}'\n",
        "\n",
        "    def __repr__(self): #returns every value for the Person class so they can be duplicated\n",
        "        return f\"Person('{self.lastName}', '{self.firstName}', '{self.mother}', '{self.father}')\"\n"
      ],
      "metadata": {
        "id": "mjHDwHv3EpVe"
      },
      "execution_count": 2,
      "outputs": []
    },
    {
      "cell_type": "markdown",
      "source": [
        "Create a person (i.e., a `Person` object) called `p` with unknown parents.  (You will need to give your person a first and last name.) Check the type of `p`.  Include all inputs and outputs."
      ],
      "metadata": {
        "id": "-ppMsEIVHINl"
      }
    },
    {
      "cell_type": "code",
      "source": [
        "p = Person(\"Abrams\", \"Aaron\", mother = \"unknown\", father = \"unknown\")"
      ],
      "metadata": {
        "id": "5bwid_6gHIBH"
      },
      "execution_count": 3,
      "outputs": []
    },
    {
      "cell_type": "markdown",
      "source": [
        "Verify that your `__str__` and `__repr__` functions are doing what they are supposed to do.  Include all inputs and outputs."
      ],
      "metadata": {
        "id": "Z6zlUC3xRtal"
      }
    },
    {
      "cell_type": "code",
      "source": [
        "print(str(p))\n",
        "repr((p))"
      ],
      "metadata": {
        "id": "jZO0dBQYRs-K",
        "colab": {
          "base_uri": "https://localhost:8080/",
          "height": 53
        },
        "outputId": "b3c9ac96-83f3-46ff-9a7d-c8c49239dfd7"
      },
      "execution_count": 4,
      "outputs": [
        {
          "output_type": "stream",
          "name": "stdout",
          "text": [
            "Aaron Abrams\n"
          ]
        },
        {
          "output_type": "execute_result",
          "data": {
            "text/plain": [
              "\"Person('Abrams', 'Aaron', 'unknown', 'unknown')\""
            ],
            "application/vnd.google.colaboratory.intrinsic+json": {
              "type": "string"
            }
          },
          "metadata": {},
          "execution_count": 4
        }
      ]
    },
    {
      "cell_type": "markdown",
      "source": [
        "Suppose the mother of `p` has been found and is named Taylor Swift.  Create a new person named Taylor Swift, and make her the mother of `p`:\n",
        "\n",
        "```\n",
        "> p.mother\n",
        "'Taylor Swift'\n",
        "```"
      ],
      "metadata": {
        "id": "1mOAThQiHzoQ"
      }
    },
    {
      "cell_type": "code",
      "source": [
        "t = Person(\"Swift\", \"Taylor\", mother = \"unknown\", father = \"unknown\")\n",
        "p.mother = t\n",
        "p.father = \"Travis Kelce\"\n",
        "repr(p)"
      ],
      "metadata": {
        "id": "NYbDOorpHymz",
        "colab": {
          "base_uri": "https://localhost:8080/",
          "height": 36
        },
        "outputId": "7af98a66-ba8d-43ae-f701-e73d55058c0d"
      },
      "execution_count": 8,
      "outputs": [
        {
          "output_type": "execute_result",
          "data": {
            "text/plain": [
              "\"Person('Abrams', 'Aaron', 'Taylor Swift', 'Travis Kelce')\""
            ],
            "application/vnd.google.colaboratory.intrinsic+json": {
              "type": "string"
            }
          },
          "metadata": {},
          "execution_count": 8
        }
      ]
    },
    {
      "cell_type": "markdown",
      "source": [
        "2.  Add some methods to your class.  Start by copying the `class` definition you already wrote.  Then, inside the `class` definition:\n",
        "\n",
        "  (a) Write a method called `unknownParent()` which returns `True` if any parent is 'unknown' and `False` otherwise.\n",
        "\n",
        "  (b) Write a method called `maternalGrandmother()` which returns the mother's mother.  If the mother is unknown, it should return 'unknown'.\n",
        "\n"
      ],
      "metadata": {
        "id": "1g1pcrmFHzGh"
      }
    },
    {
      "cell_type": "code",
      "source": [
        "class Person:\n",
        "    def __init__(self, lastName, firstName, mother=\"unknown\", father=\"unknown\"): #defining all of the potential values for the class\n",
        "        self.lastName = lastName\n",
        "        self.firstName = firstName\n",
        "        self.mother = mother\n",
        "        self.father = father\n",
        "\n",
        "    def __str__(self): #returns a Person's first and last name\n",
        "        return f'{self.firstName} {self.lastName}'\n",
        "\n",
        "    def __repr__(self): #returns every value for the Person class so they can be duplicated\n",
        "        return f\"Person('{self.lastName}', '{self.firstName}', '{self.mother}', '{self.father}')\"\n",
        "\n",
        "    def unknownParent(self): #returns True if any parent is \"unknown\" and False otherwise\n",
        "        if self.mother == \"unknown\" or self.father == \"unknown\":\n",
        "            return True\n",
        "        return False\n",
        "\n",
        "def maternalGrandmother(person, everyone):\n",
        "    for i in range(len(everyone)):\n",
        "        if everyone[i].firstName == person.mother:\n",
        "            return everyone[i].mother\n",
        "    return \"unknown\"  # Maternal grandmother not found\n"
      ],
      "metadata": {
        "id": "7mIxJGwwKTpv"
      },
      "execution_count": 52,
      "outputs": []
    },
    {
      "cell_type": "markdown",
      "source": [
        "Create enough `Person` objects to test whether your methods are working properly.  Show all your inputs and outputs.  It is up to you to demonstrate that you have thoroughly tested the code.  You may use additional code and/or text chunks if it helps."
      ],
      "metadata": {
        "id": "l9-4gxd8FxAQ"
      }
    },
    {
      "cell_type": "code",
      "source": [
        "\n",
        "# Creating instances of the Person class\n",
        "person1 = Person(\"Smith\", \"John\", mother = \"Jean\", father = \"Bob\")\n",
        "person2 = Person(\"Smith\", \"Jean\", mother = \"Carol\", father = \"Jim\")\n",
        "person3 = Person(\"Dave\", \"Carol\", mother= \"Holly\", father = \"unknown\")\n",
        "person4 = Person(\"Dave\", \"Holly\", mother= \"Patricia\", father = \"Cantor\")\n",
        "person5 = Person(\"Eve\", \"Patricia\", mother= \"unknown\", father =\"unknown\")\n",
        "\n",
        "everyone = [person1, person2, person3, person4, person5]\n",
        "\n",
        "# Testing the maternalGrandmother function\n",
        "print(maternalGrandmother(person1, everyone))\n",
        "print(maternalGrandmother(person2, everyone))\n",
        "print(maternalGrandmother(person3, everyone))\n",
        "print(maternalGrandmother(person4, everyone))\n",
        "print(maternalGrandmother(person5, everyone))\n",
        "\n",
        "print(\"\\n\\n\")\n",
        "\n",
        "# Testing the unknownParent function\n",
        "print(Person.unknownParent(person1))\n",
        "print(Person.unknownParent(person2))\n",
        "print(Person.unknownParent(person3))\n",
        "print(Person.unknownParent(person4))\n",
        "print(Person.unknownParent(person5))\n"
      ],
      "metadata": {
        "id": "gX1qpcKzFwoZ",
        "colab": {
          "base_uri": "https://localhost:8080/"
        },
        "outputId": "03457f5b-4a24-4167-dce2-74ac5ebc36c1"
      },
      "execution_count": 51,
      "outputs": [
        {
          "output_type": "stream",
          "name": "stdout",
          "text": [
            "Carol\n",
            "Holly\n",
            "Patricia\n",
            "unknown\n",
            "unknown\n",
            "\n",
            "\n",
            "\n",
            "False\n",
            "False\n",
            "True\n",
            "False\n",
            "True\n"
          ]
        }
      ]
    },
    {
      "cell_type": "markdown",
      "source": [],
      "metadata": {
        "id": "BKYQk98VZQ4m"
      }
    }
  ]
}